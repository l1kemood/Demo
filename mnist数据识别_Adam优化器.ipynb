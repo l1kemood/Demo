{
  "nbformat": 4,
  "nbformat_minor": 0,
  "metadata": {
    "colab": {
      "provenance": [],
      "gpuType": "T4",
      "include_colab_link": true
    },
    "kernelspec": {
      "name": "python3",
      "display_name": "Python 3"
    },
    "language_info": {
      "name": "python"
    },
    "accelerator": "GPU"
  },
  "cells": [
    {
      "cell_type": "markdown",
      "metadata": {
        "id": "view-in-github",
        "colab_type": "text"
      },
      "source": [
        "<a href=\"https://colab.research.google.com/github/l1kemood/Demo/blob/main/mnist%E6%95%B0%E6%8D%AE%E8%AF%86%E5%88%AB_Adam%E4%BC%98%E5%8C%96%E5%99%A8.ipynb\" target=\"_parent\"><img src=\"https://colab.research.google.com/assets/colab-badge.svg\" alt=\"Open In Colab\"/></a>"
      ]
    },
    {
      "cell_type": "code",
      "execution_count": 1,
      "metadata": {
        "id": "fHidVkOmvJ8Y"
      },
      "outputs": [],
      "source": [
        "import numpy as np\n",
        "from torch import nn,optim\n",
        "from torch.autograd import Variable\n",
        "from torchvision import datasets,transforms # Corrected the module name from 'torchvison' to 'torchvision'\n",
        "from torch.utils.data import DataLoader\n",
        "import torch"
      ]
    },
    {
      "cell_type": "code",
      "source": [
        "train_dataset=datasets.MNIST(root='./data',train=True,transform=transforms.ToTensor(),download=True)\n",
        "test_dataset=datasets.MNIST(root='./data',train=False,transform=transforms.ToTensor())"
      ],
      "metadata": {
        "id": "yJA_r2Vc6OGq",
        "colab": {
          "base_uri": "https://localhost:8080/"
        },
        "outputId": "d2a3777f-9572-4dfb-dfde-9197039ab398"
      },
      "execution_count": 2,
      "outputs": [
        {
          "output_type": "stream",
          "name": "stdout",
          "text": [
            "Downloading http://yann.lecun.com/exdb/mnist/train-images-idx3-ubyte.gz\n",
            "Failed to download (trying next):\n",
            "HTTP Error 403: Forbidden\n",
            "\n",
            "Downloading https://ossci-datasets.s3.amazonaws.com/mnist/train-images-idx3-ubyte.gz\n",
            "Downloading https://ossci-datasets.s3.amazonaws.com/mnist/train-images-idx3-ubyte.gz to ./data/MNIST/raw/train-images-idx3-ubyte.gz\n"
          ]
        },
        {
          "output_type": "stream",
          "name": "stderr",
          "text": [
            "100%|██████████| 9.91M/9.91M [00:00<00:00, 41.6MB/s]\n"
          ]
        },
        {
          "output_type": "stream",
          "name": "stdout",
          "text": [
            "Extracting ./data/MNIST/raw/train-images-idx3-ubyte.gz to ./data/MNIST/raw\n",
            "\n",
            "Downloading http://yann.lecun.com/exdb/mnist/train-labels-idx1-ubyte.gz\n",
            "Failed to download (trying next):\n",
            "HTTP Error 403: Forbidden\n",
            "\n",
            "Downloading https://ossci-datasets.s3.amazonaws.com/mnist/train-labels-idx1-ubyte.gz\n",
            "Downloading https://ossci-datasets.s3.amazonaws.com/mnist/train-labels-idx1-ubyte.gz to ./data/MNIST/raw/train-labels-idx1-ubyte.gz\n"
          ]
        },
        {
          "output_type": "stream",
          "name": "stderr",
          "text": [
            "100%|██████████| 28.9k/28.9k [00:00<00:00, 1.28MB/s]\n"
          ]
        },
        {
          "output_type": "stream",
          "name": "stdout",
          "text": [
            "Extracting ./data/MNIST/raw/train-labels-idx1-ubyte.gz to ./data/MNIST/raw\n",
            "\n",
            "Downloading http://yann.lecun.com/exdb/mnist/t10k-images-idx3-ubyte.gz\n",
            "Failed to download (trying next):\n",
            "HTTP Error 403: Forbidden\n",
            "\n",
            "Downloading https://ossci-datasets.s3.amazonaws.com/mnist/t10k-images-idx3-ubyte.gz\n",
            "Downloading https://ossci-datasets.s3.amazonaws.com/mnist/t10k-images-idx3-ubyte.gz to ./data/MNIST/raw/t10k-images-idx3-ubyte.gz\n"
          ]
        },
        {
          "output_type": "stream",
          "name": "stderr",
          "text": [
            "100%|██████████| 1.65M/1.65M [00:00<00:00, 10.8MB/s]\n"
          ]
        },
        {
          "output_type": "stream",
          "name": "stdout",
          "text": [
            "Extracting ./data/MNIST/raw/t10k-images-idx3-ubyte.gz to ./data/MNIST/raw\n",
            "\n",
            "Downloading http://yann.lecun.com/exdb/mnist/t10k-labels-idx1-ubyte.gz\n",
            "Failed to download (trying next):\n",
            "HTTP Error 403: Forbidden\n",
            "\n",
            "Downloading https://ossci-datasets.s3.amazonaws.com/mnist/t10k-labels-idx1-ubyte.gz\n",
            "Downloading https://ossci-datasets.s3.amazonaws.com/mnist/t10k-labels-idx1-ubyte.gz to ./data/MNIST/raw/t10k-labels-idx1-ubyte.gz\n"
          ]
        },
        {
          "output_type": "stream",
          "name": "stderr",
          "text": [
            "100%|██████████| 4.54k/4.54k [00:00<00:00, 3.79MB/s]"
          ]
        },
        {
          "output_type": "stream",
          "name": "stdout",
          "text": [
            "Extracting ./data/MNIST/raw/t10k-labels-idx1-ubyte.gz to ./data/MNIST/raw\n",
            "\n"
          ]
        },
        {
          "output_type": "stream",
          "name": "stderr",
          "text": [
            "\n"
          ]
        }
      ]
    },
    {
      "cell_type": "code",
      "source": [
        "#Batch size\n",
        "batch_size=64\n",
        "#Loaded in the training set\n",
        "train_loader=DataLoader(dataset=train_dataset,batch_size=batch_size,shuffle=True)\n",
        "#Loaded in the testing set\n",
        "test_loader=DataLoader(dataset=test_dataset,batch_size=batch_size,shuffle=True)"
      ],
      "metadata": {
        "id": "PUHs0k-P62QI"
      },
      "execution_count": 3,
      "outputs": []
    },
    {
      "cell_type": "code",
      "source": [
        "for i,data in enumerate(train_loader):\n",
        "  inputs,labels=data\n",
        "  print(inputs.shape)\n",
        "  print(labels.shape)\n",
        "  break"
      ],
      "metadata": {
        "colab": {
          "base_uri": "https://localhost:8080/"
        },
        "id": "MmOObruB7M8F",
        "outputId": "8d0da7ed-5bbb-45c3-8241-77baa1ee8ce9"
      },
      "execution_count": 4,
      "outputs": [
        {
          "output_type": "stream",
          "name": "stdout",
          "text": [
            "torch.Size([64, 1, 28, 28])\n",
            "torch.Size([64])\n"
          ]
        }
      ]
    },
    {
      "cell_type": "code",
      "source": [
        "#Define network structure\n",
        "class Net(nn.Module):\n",
        "  def __init__(self):\n",
        "    super(Net,self).__init__()\n",
        "    self.fcl = nn.Linear(784,10)\n",
        "    self.softmax = nn.Softmax(dim=1)\n",
        "\n",
        "  def forward(self,x):\n",
        "    # ([64, 1, 28, 28])->(64,784)\n",
        "    x = x.view(x.size()[0],-1)\n",
        "    x = self.fcl(x)\n",
        "    x = self.softmax(x)\n",
        "    return x\n"
      ],
      "metadata": {
        "id": "P2tIWaRB7f29"
      },
      "execution_count": 5,
      "outputs": []
    },
    {
      "cell_type": "code",
      "source": [
        "#Define the model\n",
        "model = Net()\n",
        "#Define cost function\n",
        "mse_loss = nn.CrossEntropyLoss()\n",
        "#Define optimizer\n",
        "optimizer = optim.Adam(model.parameters(),lr=0.001)"
      ],
      "metadata": {
        "id": "5b1pDz9o7-Yr"
      },
      "execution_count": 6,
      "outputs": []
    },
    {
      "cell_type": "code",
      "source": [
        "def train():\n",
        "  for i,data in enumerate(train_loader):\n",
        "    #Get a batch of data and labels\n",
        "    inputs,labels = data\n",
        "    #Obtain model prediction results (64,10)\n",
        "    out = model(inputs)\n",
        "    #Cross entropy cost function out(batch,C),labels (batch)\n",
        "    loss = mse_loss(out,labels)\n",
        "    #Gradient clearing\n",
        "    optimizer.zero_grad()\n",
        "    #Calculated gradient\n",
        "    loss.backward()\n",
        "    #Update parameters\n",
        "    optimizer.step()\n",
        "\n",
        "def test():\n",
        "  correct = 0\n",
        "  for i,data in enumerate(test_loader):\n",
        "    #Get a batch of data and labels\n",
        "    inputs,labels = data\n",
        "    #The model prediction results were obtained(64,10)\n",
        "    out = model(inputs)\n",
        "    #Get the maximum value and the location of the maximum value\n",
        "    _,predicted = torch.max(out,1)\n",
        "    #Predict the correct amount\n",
        "    correct += (predicted == labels).sum()\n",
        "  print(\"Test acc:{0}\".format(correct.item()/len(test_dataset)))\n",
        "\n"
      ],
      "metadata": {
        "id": "lLPKjoj697c2"
      },
      "execution_count": 7,
      "outputs": []
    },
    {
      "cell_type": "code",
      "source": [
        "for epoch in range(10):\n",
        "  print('epoch:',epoch)\n",
        "  train()\n",
        "  test()\n"
      ],
      "metadata": {
        "colab": {
          "base_uri": "https://localhost:8080/"
        },
        "id": "92VGZMXRExfJ",
        "outputId": "276baaf3-9683-4114-ff09-583f7fc7ccf1"
      },
      "execution_count": 8,
      "outputs": [
        {
          "output_type": "stream",
          "name": "stdout",
          "text": [
            "epoch: 0\n",
            "Test acc:0.9069\n",
            "epoch: 1\n",
            "Test acc:0.9146\n",
            "epoch: 2\n",
            "Test acc:0.9207\n",
            "epoch: 3\n",
            "Test acc:0.9228\n",
            "epoch: 4\n",
            "Test acc:0.9253\n",
            "epoch: 5\n",
            "Test acc:0.9269\n",
            "epoch: 6\n",
            "Test acc:0.928\n",
            "epoch: 7\n",
            "Test acc:0.9289\n",
            "epoch: 8\n",
            "Test acc:0.9288\n",
            "epoch: 9\n",
            "Test acc:0.9304\n"
          ]
        }
      ]
    }
  ]
}