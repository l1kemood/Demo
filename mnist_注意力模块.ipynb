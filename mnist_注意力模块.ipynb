{
  "nbformat": 4,
  "nbformat_minor": 0,
  "metadata": {
    "colab": {
      "provenance": [],
      "gpuType": "T4",
      "authorship_tag": "ABX9TyOhIIzOoJAZO7o//4iSTDlE",
      "include_colab_link": true
    },
    "kernelspec": {
      "name": "python3",
      "display_name": "Python 3"
    },
    "language_info": {
      "name": "python"
    },
    "accelerator": "GPU"
  },
  "cells": [
    {
      "cell_type": "markdown",
      "metadata": {
        "id": "view-in-github",
        "colab_type": "text"
      },
      "source": [
        "<a href=\"https://colab.research.google.com/github/l1kemood/Demo/blob/main/mnist_%E6%B3%A8%E6%84%8F%E5%8A%9B%E6%A8%A1%E5%9D%97.ipynb\" target=\"_parent\"><img src=\"https://colab.research.google.com/assets/colab-badge.svg\" alt=\"Open In Colab\"/></a>"
      ]
    },
    {
      "cell_type": "code",
      "execution_count": 7,
      "metadata": {
        "id": "fHidVkOmvJ8Y"
      },
      "outputs": [],
      "source": [
        "import numpy as np\n",
        "from torch import nn,optim\n",
        "from torch.autograd import Variable\n",
        "from torchvision import datasets,transforms # Corrected the module name from 'torchvison' to 'torchvision'\n",
        "from torch.utils.data import DataLoader\n",
        "import torch\n",
        "import matplotlib.pyplot as plt\n"
      ]
    },
    {
      "cell_type": "code",
      "source": [
        "train_dataset=datasets.MNIST(root='./data',train=True,transform=transforms.ToTensor(),download=True)\n",
        "test_dataset=datasets.MNIST(root='./data',train=False,transform=transforms.ToTensor())"
      ],
      "metadata": {
        "id": "yJA_r2Vc6OGq"
      },
      "execution_count": 8,
      "outputs": []
    },
    {
      "cell_type": "code",
      "source": [
        "#Batch size\n",
        "batch_size=64\n",
        "#Loaded in the training set\n",
        "train_loader=DataLoader(dataset=train_dataset,batch_size=batch_size,shuffle=True)\n",
        "#Loaded in the testing set\n",
        "test_loader=DataLoader(dataset=test_dataset,batch_size=batch_size,shuffle=True)"
      ],
      "metadata": {
        "id": "PUHs0k-P62QI"
      },
      "execution_count": 9,
      "outputs": []
    },
    {
      "cell_type": "code",
      "source": [
        "for i,data in enumerate(train_loader):\n",
        "  inputs,labels=data\n",
        "  print(inputs.shape)\n",
        "  print(labels.shape)\n",
        "  break"
      ],
      "metadata": {
        "colab": {
          "base_uri": "https://localhost:8080/"
        },
        "id": "MmOObruB7M8F",
        "outputId": "6187d2a5-38f2-4a31-cb57-3deb2c6063a5"
      },
      "execution_count": 10,
      "outputs": [
        {
          "output_type": "stream",
          "name": "stdout",
          "text": [
            "torch.Size([64, 1, 28, 28])\n",
            "torch.Size([64])\n"
          ]
        }
      ]
    },
    {
      "cell_type": "code",
      "source": [
        "for i, data in enumerate(train_loader):\n",
        "  inputs, labels = data\n",
        "  break\n",
        "\n",
        "plt.imshow(inputs[0].squeeze(), cmap='gray')\n",
        "plt.title(f\"Label: {labels[0]}\")\n",
        "plt.show()"
      ],
      "metadata": {
        "colab": {
          "base_uri": "https://localhost:8080/",
          "height": 452
        },
        "id": "3355Gj601bu2",
        "outputId": "ac504c9a-b367-4245-f3a2-661e616ee4cf"
      },
      "execution_count": 5,
      "outputs": [
        {
          "output_type": "display_data",
          "data": {
            "text/plain": [
              "<Figure size 640x480 with 1 Axes>"
            ],
            "image/png": "[encoded data removed]"
          },
          "metadata": {}
        }
      ]
    },
    {
      "cell_type": "code",
      "source": [
        "#Define network structure\n",
        "class Net(nn.Module):\n",
        "  def __init__(self):\n",
        "    super(Net,self).__init__()\n",
        "    self.conv1 = nn.Sequential(nn.Conv2d(1,32,5,1,2),nn.ReLU(),nn.MaxPool2d(2,2))\n",
        "    self.conv2 = nn.Sequential(nn.Conv2d(32,64,5,1,2),nn.ReLU(),nn.MaxPool2d(2,2))\n",
        "    self.fc1 = nn.Sequential(nn.Linear(64*7*7,500),nn.Dropout(p=0.5),nn.ReLU())\n",
        "    self.fc2 = nn.Sequential(nn.Linear(500,10),nn.Softmax(dim=1))\n",
        "\n",
        "  def forward(self,x):\n",
        "    # [64, 1, 28, 28]\n",
        "    x = self.conv1(x)\n",
        "    x = self.conv2(x)\n",
        "    #(64,64,7,7)\n",
        "    x = x.view(x.size()[0],-1)\n",
        "    x = self.fc1(x)\n",
        "    x = self.fc2(x)\n",
        "    return x"
      ],
      "metadata": {
        "id": "P2tIWaRB7f29"
      },
      "execution_count": 6,
      "outputs": []
    },
    {
      "cell_type": "code",
      "source": [
        "class SpatialAttention(nn.Module):\n",
        "    def __init__(self, in_channels):\n",
        "        super(SpatialAttention, self).__init__()\n",
        "        self.conv1 = nn.Conv2d(in_channels, 1, kernel_size=1)\n",
        "        self.sigmoid = nn.Sigmoid()\n",
        "\n",
        "    def forward(self, x):\n",
        "        attn = self.conv1(x)\n",
        "        attn = self.sigmoid(attn)\n",
        "        return x * attn  # 将注意力权重应用于输入特征"
      ],
      "metadata": {
        "id": "YBdeN8TP_YnK"
      },
      "execution_count": 11,
      "outputs": []
    },
    {
      "cell_type": "code",
      "source": [
        "class Net(nn.Module):\n",
        "    def __init__(self):\n",
        "        super(Net, self).__init__()\n",
        "        self.conv1 = nn.Sequential(nn.Conv2d(1,32,5,1,2),nn.ReLU(),nn.MaxPool2d(2,2))\n",
        "        self.conv2 = nn.Sequential(nn.Conv2d(32, 64, 5, 1, 2), nn.ReLU(), nn.MaxPool2d(2, 2))\n",
        "        self.attention = SpatialAttention(64)  # 添加注意力模块\n",
        "        self.fc1 = nn.Sequential(nn.Linear(64 * 7 * 7, 500), nn.Dropout(p=0.5), nn.ReLU())\n",
        "        self.fc2 = nn.Sequential(nn.Linear(500,10),nn.Softmax(dim=1))\n",
        "\n",
        "    def forward(self, x):\n",
        "        x = self.conv1(x)\n",
        "        x = self.conv2(x)\n",
        "        x = self.attention(x)  # 应用注意力模块\n",
        "        x = x.view(x.size()[0], -1)\n",
        "        x = self.fc1(x)\n",
        "        x = self.fc2(x)\n",
        "        return x"
      ],
      "metadata": {
        "id": "R1aexWmA_Sne"
      },
      "execution_count": 13,
      "outputs": []
    },
    {
      "cell_type": "code",
      "source": [
        "LR = 0.0003\n",
        "#Define the model\n",
        "model = Net()\n",
        "#Define cost function\n",
        "mse_loss = nn.CrossEntropyLoss()\n",
        "#Define optimizer,Set L2 regularization\n",
        "optimizer = optim.Adam(model.parameters(),LR)"
      ],
      "metadata": {
        "id": "5b1pDz9o7-Yr"
      },
      "execution_count": 14,
      "outputs": []
    },
    {
      "cell_type": "code",
      "source": [
        "def train():\n",
        "  #Training state\n",
        "  model.train()\n",
        "  for i,data in enumerate(train_loader):\n",
        "    #Get a batch of data and labels\n",
        "    inputs,labels = data\n",
        "    #Obtain model prediction results (64,10)\n",
        "    out = model(inputs)\n",
        "    #Cross entropy cost function out(batch,C),labels (batch)\n",
        "    loss = mse_loss(out,labels)\n",
        "    #Gradient clearing\n",
        "    optimizer.zero_grad()\n",
        "    #Calculated gradient\n",
        "    loss.backward()\n",
        "    #Update parameters\n",
        "    optimizer.step()\n",
        "\n",
        "def test():\n",
        "  #Testing state\n",
        "  model.eval()\n",
        "  correct = 0\n",
        "  for i,data in enumerate(test_loader):\n",
        "    #Get a batch of data and labels\n",
        "    inputs,labels = data\n",
        "    #The model prediction results were obtained(64,10)\n",
        "    out = model(inputs)\n",
        "    #Get the maximum value and the location of the maximum value\n",
        "    _,predicted = torch.max(out,1)\n",
        "    #Predict the correct amount\n",
        "    correct += (predicted == labels).sum()\n",
        "  print(\"Test acc:{0}\".format(correct.item()/len(test_dataset)))\n",
        "\n",
        "  correct = 0\n",
        "  for i,data in enumerate(train_loader):\n",
        "    #Get a batch of data and labels\n",
        "    inputs,labels = data\n",
        "    #The model prediction results were obtained(64,10)\n",
        "    out = model(inputs)\n",
        "    #Get the maximum value and the location of the maximum value\n",
        "    _,predicted = torch.max(out,1)\n",
        "    #Predict the correct amount\n",
        "    correct += (predicted == labels).sum()\n",
        "  print(\"Train acc:{0}\".format(correct.item()/len(train_dataset)))\n",
        "\n",
        "\n"
      ],
      "metadata": {
        "id": "lLPKjoj697c2"
      },
      "execution_count": 15,
      "outputs": []
    },
    {
      "cell_type": "code",
      "source": [
        "# 获取预测结果和对应的图像数据\n",
        "predictions = []\n",
        "true_labels = []\n",
        "all_images = []\n",
        "for i, data in enumerate(train_loader):\n",
        "    inputs, labels = data\n",
        "    outputs = model(inputs)\n",
        "    _, predicted = torch.max(outputs, 1)\n",
        "    predictions.extend(predicted.cpu().numpy())\n",
        "    true_labels.extend(labels.cpu().numpy())\n",
        "    all_images.extend(inputs.cpu().numpy())\n",
        "\n",
        "# 筛选预测结果\n",
        "correct_indices = np.where(np.array(predictions) == np.array(true_labels))[0]\n",
        "incorrect_indices = np.where(np.array(predictions) != np.array(true_labels))[0]\n",
        "\n",
        "# 可视化预测结果\n",
        "# 准确预测的图像\n",
        "plt.figure(figsize=(8, 8))\n",
        "for i, index in enumerate(correct_indices[:9]):\n",
        "    plt.subplot(3, 3, i + 1)\n",
        "    plt.imshow(all_images[index].squeeze(), cmap='gray') # 使用 all_images[index] 获取图像\n",
        "    plt.title(f\"Predicted: {predictions[index]}, True: {true_labels[index]}\")\n",
        "    plt.axis('off')\n",
        "plt.suptitle(\"Correctly Predicted Images\")\n",
        "plt.show()\n",
        "\n",
        "# 预测失败的图像\n",
        "plt.figure(figsize=(8, 8))\n",
        "for i, index in enumerate(incorrect_indices[:9]):\n",
        "    plt.subplot(3, 3, i + 1)\n",
        "    plt.imshow(all_images[index].squeeze(), cmap='gray') # 使用 all_images[index] 获取图像\n",
        "    plt.title(f\"Predicted: {predictions[index]}, True: {true_labels[index]}\")\n",
        "    plt.axis('off')\n",
        "plt.suptitle(\"Incorrectly Predicted Images\")\n",
        "plt.show()"
      ],
      "metadata": {
        "colab": {
          "base_uri": "https://localhost:8080/",
          "height": 1000
        },
        "id": "Ri-tXR5U_T1W",
        "outputId": "31931376-2783-4215-8f9f-78cd2892c957"
      },
      "execution_count": null,
      "outputs": [
        {
          "output_type": "display_data",
          "data": {
            "text/plain": [
              "<Figure size 800x800 with 9 Axes>"
            ],
            "image/png": "[encoded data removed]"
          },
          "metadata": {}
        },
        {
          "output_type": "display_data",
          "data": {
            "text/plain": [
              "<Figure size 800x800 with 9 Axes>"
            ],
            "image/png": "[encoded data removed]"
          },
          "metadata": {}
        }
      ]
    },
    {
      "cell_type": "code",
      "source": [
        "#不要运行，不要运行，不要运行\n",
        "#正常使用CNN\n",
        "#使用dorpout,测试状态不适用dropput\n",
        "#使用adam优化器代替sgd优化器\n",
        "#在优化器中添加L2正则化代码\n",
        "for epoch in range(20):\n",
        "  print('epoch:',epoch)\n",
        "  train()\n",
        "  test()"
      ],
      "metadata": {
        "colab": {
          "base_uri": "https://localhost:8080/"
        },
        "id": "92VGZMXRExfJ",
        "outputId": "006552cb-74a7-49f1-bc35-a528403ec795"
      },
      "execution_count": null,
      "outputs": [
        {
          "output_type": "stream",
          "name": "stdout",
          "text": [
            "epoch: 0\n",
            "Test acc:0.9766\n",
            "Train acc:0.9749666666666666\n",
            "epoch: 1\n",
            "Test acc:0.9831\n",
            "Train acc:0.98385\n",
            "epoch: 2\n",
            "Test acc:0.9803\n",
            "Train acc:0.97955\n",
            "epoch: 3\n",
            "Test acc:0.9817\n",
            "Train acc:0.9836\n",
            "epoch: 4\n",
            "Test acc:0.99\n",
            "Train acc:0.9907166666666667\n",
            "epoch: 5\n",
            "Test acc:0.9894\n",
            "Train acc:0.9901\n",
            "epoch: 6\n",
            "Test acc:0.989\n",
            "Train acc:0.9906166666666667\n",
            "epoch: 7\n",
            "Test acc:0.99\n",
            "Train acc:0.9907666666666667\n",
            "epoch: 8\n",
            "Test acc:0.9866\n",
            "Train acc:0.98905\n",
            "epoch: 9\n",
            "Test acc:0.9844\n",
            "Train acc:0.9866666666666667\n",
            "epoch: 10\n",
            "Test acc:0.9879\n",
            "Train acc:0.988\n",
            "epoch: 11\n",
            "Test acc:0.9888\n",
            "Train acc:0.9894\n",
            "epoch: 12\n",
            "Test acc:0.9913\n",
            "Train acc:0.9930333333333333\n",
            "epoch: 13\n",
            "Test acc:0.9882\n",
            "Train acc:0.9908333333333333\n",
            "epoch: 14\n",
            "Test acc:0.9917\n",
            "Train acc:0.99265\n",
            "epoch: 15\n",
            "Test acc:0.9871\n",
            "Train acc:0.9899666666666667\n",
            "epoch: 16\n",
            "Test acc:0.9901\n",
            "Train acc:0.9917\n",
            "epoch: 17\n",
            "Test acc:0.9877\n",
            "Train acc:0.9887\n",
            "epoch: 18\n",
            "Test acc:0.9867\n",
            "Train acc:0.9899666666666667\n",
            "epoch: 19\n",
            "Test acc:0.9901\n",
            "Train acc:0.9913833333333333\n"
          ]
        }
      ]
    },
    {
      "cell_type": "code",
      "source": [
        "#简化模型\n",
        "#Reduce the number of layers of the network or the number of neurons per layer\n",
        "#将全连接层的神经元数量从 1000 减少到 500\n",
        "\n",
        "for epoch in range(10):\n",
        "  print('epoch:',epoch)\n",
        "  train()\n",
        "  test()"
      ],
      "metadata": {
        "colab": {
          "base_uri": "https://localhost:8080/"
        },
        "id": "idF0tJkH7ka4",
        "outputId": "1a77ce9c-c5af-48ae-b3e0-0c0ca9cbdd61"
      },
      "execution_count": null,
      "outputs": [
        {
          "output_type": "stream",
          "name": "stdout",
          "text": [
            "epoch: 0\n",
            "Test acc:0.9761\n",
            "Train acc:0.97145\n",
            "epoch: 1\n",
            "Test acc:0.9858\n",
            "Train acc:0.9834166666666667\n",
            "epoch: 2\n",
            "Test acc:0.9881\n",
            "Train acc:0.9882166666666666\n",
            "epoch: 3\n",
            "Test acc:0.9875\n",
            "Train acc:0.9877\n",
            "epoch: 4\n",
            "Test acc:0.9887\n",
            "Train acc:0.98945\n",
            "epoch: 5\n",
            "Test acc:0.9882\n",
            "Train acc:0.9892333333333333\n",
            "epoch: 6\n",
            "Test acc:0.9907\n",
            "Train acc:0.99235\n",
            "epoch: 7\n",
            "Test acc:0.9898\n",
            "Train acc:0.9914333333333334\n",
            "epoch: 8\n",
            "Test acc:0.9926\n",
            "Train acc:0.993\n",
            "epoch: 9\n",
            "Test acc:0.9889\n",
            "Train acc:0.9913\n"
          ]
        }
      ]
    },
    {
      "cell_type": "code",
      "source": [
        "#调整学习率从0.001缩小为0.0003\n",
        "for epoch in range(10):\n",
        "  print('epoch:',epoch)\n",
        "  train()\n",
        "  test()"
      ],
      "metadata": {
        "colab": {
          "base_uri": "https://localhost:8080/"
        },
        "id": "OXBtWqmPKQpG",
        "outputId": "9d8afff9-41f3-4de5-b488-e38404676215"
      },
      "execution_count": null,
      "outputs": [
        {
          "output_type": "stream",
          "name": "stdout",
          "text": [
            "epoch: 0\n",
            "Test acc:0.9712\n",
            "Train acc:0.96995\n",
            "epoch: 1\n",
            "Test acc:0.9802\n",
            "Train acc:0.97815\n",
            "epoch: 2\n",
            "Test acc:0.9828\n",
            "Train acc:0.9832166666666666\n",
            "epoch: 3\n",
            "Test acc:0.9843\n",
            "Train acc:0.9857\n",
            "epoch: 4\n",
            "Test acc:0.9877\n",
            "Train acc:0.9903833333333333\n",
            "epoch: 5\n",
            "Test acc:0.9884\n",
            "Train acc:0.99125\n",
            "epoch: 6\n",
            "Test acc:0.9904\n",
            "Train acc:0.9928833333333333\n",
            "epoch: 7\n",
            "Test acc:0.9887\n",
            "Train acc:0.9923333333333333\n",
            "epoch: 8\n",
            "Test acc:0.9904\n",
            "Train acc:0.9933666666666666\n",
            "epoch: 9\n",
            "Test acc:0.9909\n",
            "Train acc:0.99325\n"
          ]
        }
      ]
    },
    {
      "cell_type": "code",
      "source": [
        "#添加注意力模块\n",
        "for epoch in range(10):\n",
        "  print('epoch:',epoch)\n",
        "  train()\n",
        "  test()"
      ],
      "metadata": {
        "id": "ZyStj0jkshi0",
        "colab": {
          "base_uri": "https://localhost:8080/"
        },
        "outputId": "eade6a85-29b4-46f4-ebb5-a311cbf81203"
      },
      "execution_count": 16,
      "outputs": [
        {
          "output_type": "stream",
          "name": "stdout",
          "text": [
            "epoch: 0\n",
            "Test acc:0.9686\n",
            "Train acc:0.9658666666666667\n",
            "epoch: 1\n",
            "Test acc:0.9776\n",
            "Train acc:0.9762666666666666\n",
            "epoch: 2\n",
            "Test acc:0.9841\n",
            "Train acc:0.9845166666666667\n",
            "epoch: 3\n",
            "Test acc:0.9863\n",
            "Train acc:0.9867333333333334\n",
            "epoch: 4\n",
            "Test acc:0.9852\n",
            "Train acc:0.9867\n",
            "epoch: 5\n",
            "Test acc:0.9893\n",
            "Train acc:0.9900833333333333\n",
            "epoch: 6\n",
            "Test acc:0.9894\n",
            "Train acc:0.9913666666666666\n",
            "epoch: 7\n",
            "Test acc:0.9904\n",
            "Train acc:0.9920166666666667\n",
            "epoch: 8\n",
            "Test acc:0.99\n",
            "Train acc:0.9924166666666666\n",
            "epoch: 9\n",
            "Test acc:0.9913\n",
            "Train acc:0.9940666666666667\n"
          ]
        }
      ]
    }
  ]
}