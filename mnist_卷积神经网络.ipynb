{
  "nbformat": 4,
  "nbformat_minor": 0,
  "metadata": {
    "colab": {
      "provenance": [],
      "authorship_tag": "ABX9TyPW+uyT7J3DymmzwhhMJ7h9",
      "include_colab_link": true
    },
    "kernelspec": {
      "name": "python3",
      "display_name": "Python 3"
    },
    "language_info": {
      "name": "python"
    }
  },
  "cells": [
    {
      "cell_type": "markdown",
      "metadata": {
        "id": "view-in-github",
        "colab_type": "text"
      },
      "source": [
        "<a href=\"https://colab.research.google.com/github/l1kemood/Demo/blob/main/mnist_%E5%8D%B7%E7%A7%AF%E7%A5%9E%E7%BB%8F%E7%BD%91%E7%BB%9C.ipynb\" target=\"_parent\"><img src=\"https://colab.research.google.com/assets/colab-badge.svg\" alt=\"Open In Colab\"/></a>"
      ]
    },
    {
      "cell_type": "code",
      "execution_count": null,
      "metadata": {
        "id": "fHidVkOmvJ8Y"
      },
      "outputs": [],
      "source": [
        "import numpy as np\n",
        "from torch import nn,optim\n",
        "from torch.autograd import Variable\n",
        "from torchvision import datasets,transforms # Corrected the module name from 'torchvison' to 'torchvision'\n",
        "from torch.utils.data import DataLoader\n",
        "import torch"
      ]
    },
    {
      "cell_type": "code",
      "source": [
        "train_dataset=datasets.MNIST(root='./data',train=True,transform=transforms.ToTensor(),download=True)\n",
        "test_dataset=datasets.MNIST(root='./data',train=False,transform=transforms.ToTensor())"
      ],
      "metadata": {
        "id": "yJA_r2Vc6OGq",
        "colab": {
          "base_uri": "https://localhost:8080/"
        },
        "outputId": "e74b5316-ddc2-4bcb-ed07-44521c07b370"
      },
      "execution_count": null,
      "outputs": [
        {
          "output_type": "stream",
          "name": "stdout",
          "text": [
            "Downloading http://yann.lecun.com/exdb/mnist/train-images-idx3-ubyte.gz\n",
            "Failed to download (trying next):\n",
            "HTTP Error 403: Forbidden\n",
            "\n",
            "Downloading https://ossci-datasets.s3.amazonaws.com/mnist/train-images-idx3-ubyte.gz\n",
            "Downloading https://ossci-datasets.s3.amazonaws.com/mnist/train-images-idx3-ubyte.gz to ./data/MNIST/raw/train-images-idx3-ubyte.gz\n"
          ]
        },
        {
          "output_type": "stream",
          "name": "stderr",
          "text": [
            "100%|██████████| 9.91M/9.91M [00:00<00:00, 14.6MB/s]\n"
          ]
        },
        {
          "output_type": "stream",
          "name": "stdout",
          "text": [
            "Extracting ./data/MNIST/raw/train-images-idx3-ubyte.gz to ./data/MNIST/raw\n",
            "\n",
            "Downloading http://yann.lecun.com/exdb/mnist/train-labels-idx1-ubyte.gz\n",
            "Failed to download (trying next):\n",
            "HTTP Error 403: Forbidden\n",
            "\n",
            "Downloading https://ossci-datasets.s3.amazonaws.com/mnist/train-labels-idx1-ubyte.gz\n",
            "Downloading https://ossci-datasets.s3.amazonaws.com/mnist/train-labels-idx1-ubyte.gz to ./data/MNIST/raw/train-labels-idx1-ubyte.gz\n"
          ]
        },
        {
          "output_type": "stream",
          "name": "stderr",
          "text": [
            "100%|██████████| 28.9k/28.9k [00:00<00:00, 476kB/s]\n"
          ]
        },
        {
          "output_type": "stream",
          "name": "stdout",
          "text": [
            "Extracting ./data/MNIST/raw/train-labels-idx1-ubyte.gz to ./data/MNIST/raw\n",
            "\n",
            "Downloading http://yann.lecun.com/exdb/mnist/t10k-images-idx3-ubyte.gz\n",
            "Failed to download (trying next):\n",
            "HTTP Error 403: Forbidden\n",
            "\n",
            "Downloading https://ossci-datasets.s3.amazonaws.com/mnist/t10k-images-idx3-ubyte.gz\n",
            "Downloading https://ossci-datasets.s3.amazonaws.com/mnist/t10k-images-idx3-ubyte.gz to ./data/MNIST/raw/t10k-images-idx3-ubyte.gz\n"
          ]
        },
        {
          "output_type": "stream",
          "name": "stderr",
          "text": [
            "100%|██████████| 1.65M/1.65M [00:00<00:00, 4.38MB/s]\n"
          ]
        },
        {
          "output_type": "stream",
          "name": "stdout",
          "text": [
            "Extracting ./data/MNIST/raw/t10k-images-idx3-ubyte.gz to ./data/MNIST/raw\n",
            "\n",
            "Downloading http://yann.lecun.com/exdb/mnist/t10k-labels-idx1-ubyte.gz\n",
            "Failed to download (trying next):\n",
            "HTTP Error 403: Forbidden\n",
            "\n",
            "Downloading https://ossci-datasets.s3.amazonaws.com/mnist/t10k-labels-idx1-ubyte.gz\n",
            "Downloading https://ossci-datasets.s3.amazonaws.com/mnist/t10k-labels-idx1-ubyte.gz to ./data/MNIST/raw/t10k-labels-idx1-ubyte.gz\n"
          ]
        },
        {
          "output_type": "stream",
          "name": "stderr",
          "text": [
            "100%|██████████| 4.54k/4.54k [00:00<00:00, 2.71MB/s]"
          ]
        },
        {
          "output_type": "stream",
          "name": "stdout",
          "text": [
            "Extracting ./data/MNIST/raw/t10k-labels-idx1-ubyte.gz to ./data/MNIST/raw\n",
            "\n"
          ]
        },
        {
          "output_type": "stream",
          "name": "stderr",
          "text": [
            "\n"
          ]
        }
      ]
    },
    {
      "cell_type": "code",
      "source": [
        "#Batch size\n",
        "batch_size=64\n",
        "#Loaded in the training set\n",
        "train_loader=DataLoader(dataset=train_dataset,batch_size=batch_size,shuffle=True)\n",
        "#Loaded in the testing set\n",
        "test_loader=DataLoader(dataset=test_dataset,batch_size=batch_size,shuffle=True)"
      ],
      "metadata": {
        "id": "PUHs0k-P62QI"
      },
      "execution_count": null,
      "outputs": []
    },
    {
      "cell_type": "code",
      "source": [
        "for i,data in enumerate(train_loader):\n",
        "  inputs,labels=data\n",
        "  print(inputs.shape)\n",
        "  print(labels.shape)\n",
        "  break"
      ],
      "metadata": {
        "colab": {
          "base_uri": "https://localhost:8080/"
        },
        "id": "MmOObruB7M8F",
        "outputId": "395011d6-e08b-4fa6-b7e2-6d9eff45c6ad"
      },
      "execution_count": null,
      "outputs": [
        {
          "output_type": "stream",
          "name": "stdout",
          "text": [
            "torch.Size([64, 1, 28, 28])\n",
            "torch.Size([64])\n"
          ]
        }
      ]
    },
    {
      "cell_type": "code",
      "source": [
        "#Define network structure\n",
        "class Net(nn.Module):\n",
        "  def __init__(self):\n",
        "    super(Net,self).__init__()\n",
        "    self.conv1 = nn.Sequential(nn.Conv2d(1,32,5,1,2),nn.ReLU(),nn.MaxPool2d(2,2))\n",
        "    self.conv2 = nn.Sequential(nn.Conv2d(32,64,5,1,2),nn.ReLU(),nn.MaxPool2d(2,2))\n",
        "    self.fc1 = nn.Sequential(nn.Linear(64*7*7,1000),nn.Dropout(p=0.5),nn.ReLU())\n",
        "    self.fc2 = nn.Sequential(nn.Linear(1000,10),nn.Softmax(dim=1))\n",
        "\n",
        "  def forward(self,x):\n",
        "    # [64, 1, 28, 28]\n",
        "    x = self.conv1(x)\n",
        "    x = self.conv2(x)\n",
        "    #(64,64,7,7)\n",
        "    x = x.view(x.size()[0],-1)\n",
        "    x = self.fc1(x)\n",
        "    x = self.fc2(x)\n",
        "    return x"
      ],
      "metadata": {
        "id": "P2tIWaRB7f29"
      },
      "execution_count": null,
      "outputs": []
    },
    {
      "cell_type": "code",
      "source": [
        "LR = 0.001\n",
        "#Define the model\n",
        "model = Net()\n",
        "#Define cost function\n",
        "mse_loss = nn.CrossEntropyLoss()\n",
        "#Define optimizer,Set L2 regularization\n",
        "optimizer = optim.Adam(model.parameters(),LR)"
      ],
      "metadata": {
        "id": "5b1pDz9o7-Yr"
      },
      "execution_count": null,
      "outputs": []
    },
    {
      "cell_type": "code",
      "source": [
        "def train():\n",
        "  #Training state\n",
        "  model.train()\n",
        "  for i,data in enumerate(train_loader):\n",
        "    #Get a batch of data and labels\n",
        "    inputs,labels = data\n",
        "    #Obtain model prediction results (64,10)\n",
        "    out = model(inputs)\n",
        "    #Cross entropy cost function out(batch,C),labels (batch)\n",
        "    loss = mse_loss(out,labels)\n",
        "    #Gradient clearing\n",
        "    optimizer.zero_grad()\n",
        "    #Calculated gradient\n",
        "    loss.backward()\n",
        "    #Update parameters\n",
        "    optimizer.step()\n",
        "\n",
        "def test():\n",
        "  #Testing state\n",
        "  model.eval()\n",
        "  correct = 0\n",
        "  for i,data in enumerate(test_loader):\n",
        "    #Get a batch of data and labels\n",
        "    inputs,labels = data\n",
        "    #The model prediction results were obtained(64,10)\n",
        "    out = model(inputs)\n",
        "    #Get the maximum value and the location of the maximum value\n",
        "    _,predicted = torch.max(out,1)\n",
        "    #Predict the correct amount\n",
        "    correct += (predicted == labels).sum()\n",
        "  print(\"Test acc:{0}\".format(correct.item()/len(test_dataset)))\n",
        "\n",
        "  correct = 0\n",
        "  for i,data in enumerate(train_loader):\n",
        "    #Get a batch of data and labels\n",
        "    inputs,labels = data\n",
        "    #The model prediction results were obtained(64,10)\n",
        "    out = model(inputs)\n",
        "    #Get the maximum value and the location of the maximum value\n",
        "    _,predicted = torch.max(out,1)\n",
        "    #Predict the correct amount\n",
        "    correct += (predicted == labels).sum()\n",
        "  print(\"Train acc:{0}\".format(correct.item()/len(train_dataset)))\n",
        "\n"
      ],
      "metadata": {
        "id": "lLPKjoj697c2"
      },
      "execution_count": null,
      "outputs": []
    },
    {
      "cell_type": "code",
      "source": [
        "for epoch in range(20):\n",
        "  print('epoch:',epoch)\n",
        "  train()\n",
        "  test()"
      ],
      "metadata": {
        "colab": {
          "base_uri": "https://localhost:8080/"
        },
        "id": "92VGZMXRExfJ",
        "outputId": "24ca792f-6fc8-48c5-e42e-89f65400393d"
      },
      "execution_count": null,
      "outputs": [
        {
          "output_type": "stream",
          "name": "stdout",
          "text": [
            "epoch: 0\n",
            "Test acc:0.9736\n",
            "Train acc:0.9705833333333334\n",
            "epoch: 1\n",
            "Test acc:0.9853\n",
            "Train acc:0.9834833333333334\n",
            "epoch: 2\n",
            "Test acc:0.9864\n",
            "Train acc:0.9871833333333333\n",
            "epoch: 3\n",
            "Test acc:0.985\n",
            "Train acc:0.9868333333333333\n",
            "epoch: 4\n",
            "Test acc:0.9906\n",
            "Train acc:0.9905833333333334\n",
            "epoch: 5\n",
            "Test acc:0.9861\n",
            "Train acc:0.9883166666666666\n",
            "epoch: 6\n"
          ]
        }
      ]
    }
  ]
}