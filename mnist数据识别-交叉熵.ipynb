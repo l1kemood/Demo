{
  "nbformat": 4,
  "nbformat_minor": 0,
  "metadata": {
    "colab": {
      "provenance": [],
      "gpuType": "T4",
      "authorship_tag": "ABX9TyNofi8coxVX5rRKV1OT/0l8",
      "include_colab_link": true
    },
    "kernelspec": {
      "name": "python3",
      "display_name": "Python 3"
    },
    "language_info": {
      "name": "python"
    },
    "accelerator": "GPU"
  },
  "cells": [
    {
      "cell_type": "markdown",
      "metadata": {
        "id": "view-in-github",
        "colab_type": "text"
      },
      "source": [
        "<a href=\"https://colab.research.google.com/github/l1kemood/Demo/blob/main/mnist%E6%95%B0%E6%8D%AE%E8%AF%86%E5%88%AB-%E4%BA%A4%E5%8F%89%E7%86%B5.ipynb\" target=\"_parent\"><img src=\"https://colab.research.google.com/assets/colab-badge.svg\" alt=\"Open In Colab\"/></a>"
      ]
    },
    {
      "cell_type": "code",
      "execution_count": 12,
      "metadata": {
        "id": "fHidVkOmvJ8Y"
      },
      "outputs": [],
      "source": [
        "import numpy as np\n",
        "from torch import nn,optim\n",
        "from torch.autograd import Variable\n",
        "from torchvision import datasets,transforms # Corrected the module name from 'torchvison' to 'torchvision'\n",
        "from torch.utils.data import DataLoader\n",
        "import torch"
      ]
    },
    {
      "cell_type": "code",
      "source": [
        "train_dataset=datasets.MNIST(root='./data',train=True,transform=transforms.ToTensor(),download=True)\n",
        "test_dataset=datasets.MNIST(root='./data',train=False,transform=transforms.ToTensor())"
      ],
      "metadata": {
        "id": "yJA_r2Vc6OGq"
      },
      "execution_count": 13,
      "outputs": []
    },
    {
      "cell_type": "code",
      "source": [
        "#Batch size\n",
        "batch_size=64\n",
        "#Loaded in the training set\n",
        "train_loader=DataLoader(dataset=train_dataset,batch_size=batch_size,shuffle=True)\n",
        "#Loaded in the testing set\n",
        "test_loader=DataLoader(dataset=test_dataset,batch_size=batch_size,shuffle=True)"
      ],
      "metadata": {
        "id": "PUHs0k-P62QI"
      },
      "execution_count": 14,
      "outputs": []
    },
    {
      "cell_type": "code",
      "source": [
        "for i,data in enumerate(train_loader):\n",
        "  inputs,labels=data\n",
        "  print(inputs.shape)\n",
        "  print(labels.shape)\n",
        "  break"
      ],
      "metadata": {
        "colab": {
          "base_uri": "https://localhost:8080/"
        },
        "id": "MmOObruB7M8F",
        "outputId": "d62316f8-c945-4cfb-ad95-10768a59e5fa"
      },
      "execution_count": 15,
      "outputs": [
        {
          "output_type": "stream",
          "name": "stdout",
          "text": [
            "torch.Size([64, 1, 28, 28])\n",
            "torch.Size([64])\n"
          ]
        }
      ]
    },
    {
      "cell_type": "code",
      "source": [
        "#Define network structure\n",
        "class Net(nn.Module):\n",
        "  def __init__(self):\n",
        "    super(Net,self).__init__()\n",
        "    self.fcl = nn.Linear(784,10)\n",
        "    self.softmax = nn.Softmax(dim=1)\n",
        "\n",
        "  def forward(self,x):\n",
        "    # ([64, 1, 28, 28])->(64,784)\n",
        "    x = x.view(x.size()[0],-1)\n",
        "    x = self.fcl(x)\n",
        "    x = self.softmax(x)\n",
        "    return x\n"
      ],
      "metadata": {
        "id": "P2tIWaRB7f29"
      },
      "execution_count": 16,
      "outputs": []
    },
    {
      "cell_type": "code",
      "source": [
        "#Define the model\n",
        "model = Net()\n",
        "#Define cost function\n",
        "mse_loss = nn.CrossEntropyLoss()\n",
        "#Define optimizer\n",
        "optimizer = optim.SGD(model.parameters(),lr=0.5)"
      ],
      "metadata": {
        "id": "5b1pDz9o7-Yr"
      },
      "execution_count": 17,
      "outputs": []
    },
    {
      "cell_type": "code",
      "source": [
        "def train():\n",
        "  for i,data in enumerate(train_loader):\n",
        "    #Get a batch of data and labels\n",
        "    inputs,labels = data\n",
        "    #Obtain model prediction results (64,10)\n",
        "    out = model(inputs)\n",
        "    #Cross entropy cost function out(batch,C),labels (batch)\n",
        "    loss = mse_loss(out,labels)\n",
        "    #Gradient clearing\n",
        "    optimizer.zero_grad()\n",
        "    #Calculated gradient\n",
        "    loss.backward()\n",
        "    #Update parameters\n",
        "    optimizer.step()\n",
        "\n",
        "def test():\n",
        "  correct = 0\n",
        "  for i,data in enumerate(test_loader):\n",
        "    #Get a batch of data and labels\n",
        "    inputs,labels = data\n",
        "    #The model prediction results were obtained(64,10)\n",
        "    out = model(inputs)\n",
        "    #Get the maximum value and the location of the maximum value\n",
        "    _,predicted = torch.max(out,1)\n",
        "    #Predict the correct amount\n",
        "    correct += (predicted == labels).sum()\n",
        "  print(\"Test acc:{0}\".format(correct.item()/len(test_dataset)))\n",
        "\n"
      ],
      "metadata": {
        "id": "lLPKjoj697c2"
      },
      "execution_count": 18,
      "outputs": []
    },
    {
      "cell_type": "code",
      "source": [
        "for epoch in range(10):\n",
        "  print('epoch:',epoch)\n",
        "  train()\n",
        "  test()\n"
      ],
      "metadata": {
        "colab": {
          "base_uri": "https://localhost:8080/"
        },
        "id": "92VGZMXRExfJ",
        "outputId": "e8babc20-0ca8-429f-ea2a-eb9e856c667f"
      },
      "execution_count": 19,
      "outputs": [
        {
          "output_type": "stream",
          "name": "stdout",
          "text": [
            "epoch: 0\n",
            "Test acc:0.9059\n",
            "epoch: 1\n",
            "Test acc:0.9129\n",
            "epoch: 2\n",
            "Test acc:0.9159\n",
            "epoch: 3\n",
            "Test acc:0.9197\n",
            "epoch: 4\n",
            "Test acc:0.9201\n",
            "epoch: 5\n",
            "Test acc:0.9212\n",
            "epoch: 6\n",
            "Test acc:0.9227\n",
            "epoch: 7\n",
            "Test acc:0.9223\n",
            "epoch: 8\n",
            "Test acc:0.9228\n",
            "epoch: 9\n",
            "Test acc:0.9244\n"
          ]
        }
      ]
    }
  ]
}