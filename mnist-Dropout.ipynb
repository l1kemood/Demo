{
  "nbformat": 4,
  "nbformat_minor": 0,
  "metadata": {
    "colab": {
      "provenance": [],
      "gpuType": "T4",
      "authorship_tag": "ABX9TyPjBmsmhHjBHB7MDZ46iRN1",
      "include_colab_link": true
    },
    "kernelspec": {
      "name": "python3",
      "display_name": "Python 3"
    },
    "language_info": {
      "name": "python"
    },
    "accelerator": "GPU"
  },
  "cells": [
    {
      "cell_type": "markdown",
      "metadata": {
        "id": "view-in-github",
        "colab_type": "text"
      },
      "source": [
        "<a href=\"https://colab.research.google.com/github/l1kemood/Demo/blob/main/mnist-Dropout.ipynb\" target=\"_parent\"><img src=\"https://colab.research.google.com/assets/colab-badge.svg\" alt=\"Open In Colab\"/></a>"
      ]
    },
    {
      "cell_type": "code",
      "execution_count": 20,
      "metadata": {
        "id": "fHidVkOmvJ8Y"
      },
      "outputs": [],
      "source": [
        "import numpy as np\n",
        "from torch import nn,optim\n",
        "from torch.autograd import Variable\n",
        "from torchvision import datasets,transforms # Corrected the module name from 'torchvison' to 'torchvision'\n",
        "from torch.utils.data import DataLoader\n",
        "import torch"
      ]
    },
    {
      "cell_type": "code",
      "source": [
        "train_dataset=datasets.MNIST(root='./data',train=True,transform=transforms.ToTensor(),download=True)\n",
        "test_dataset=datasets.MNIST(root='./data',train=False,transform=transforms.ToTensor())"
      ],
      "metadata": {
        "id": "yJA_r2Vc6OGq"
      },
      "execution_count": 21,
      "outputs": []
    },
    {
      "cell_type": "code",
      "source": [
        "#Batch size\n",
        "batch_size=64\n",
        "#Loaded in the training set\n",
        "train_loader=DataLoader(dataset=train_dataset,batch_size=batch_size,shuffle=True)\n",
        "#Loaded in the testing set\n",
        "test_loader=DataLoader(dataset=test_dataset,batch_size=batch_size,shuffle=True)"
      ],
      "metadata": {
        "id": "PUHs0k-P62QI"
      },
      "execution_count": 22,
      "outputs": []
    },
    {
      "cell_type": "code",
      "source": [
        "for i,data in enumerate(train_loader):\n",
        "  inputs,labels=data\n",
        "  print(inputs.shape)\n",
        "  print(labels.shape)\n",
        "  break"
      ],
      "metadata": {
        "colab": {
          "base_uri": "https://localhost:8080/"
        },
        "id": "MmOObruB7M8F",
        "outputId": "39994180-c77a-4031-8d6e-16faa4fd6854"
      },
      "execution_count": 23,
      "outputs": [
        {
          "output_type": "stream",
          "name": "stdout",
          "text": [
            "torch.Size([64, 1, 28, 28])\n",
            "torch.Size([64])\n"
          ]
        }
      ]
    },
    {
      "cell_type": "code",
      "source": [
        "#Define network structure\n",
        "class Net(nn.Module):\n",
        "  def __init__(self):\n",
        "    super(Net,self).__init__()\n",
        "    self.layer1 = nn.Sequential(nn.Linear(784,500),nn.Dropout(p=0.5),nn.Tanh())\n",
        "    self.layer2 = nn.Sequential(nn.Linear(500,300),nn.Dropout(p=0.5),nn.Tanh())\n",
        "    self.layer3 = nn.Sequential(nn.Linear(300,10),nn.Softmax(dim=1))\n",
        "\n",
        "  def forward(self,x):\n",
        "    # ([64, 1, 28, 28])->(64,784)\n",
        "    x = x.view(x.size()[0],-1)\n",
        "    x = self.layer1(x)\n",
        "    x = self.layer2(x)\n",
        "    x = self.layer3(x)\n",
        "    return x\n"
      ],
      "metadata": {
        "id": "P2tIWaRB7f29"
      },
      "execution_count": 27,
      "outputs": []
    },
    {
      "cell_type": "code",
      "source": [
        "LR = 0.5\n",
        "#Define the model\n",
        "model = Net()\n",
        "#Define cost function\n",
        "mse_loss = nn.CrossEntropyLoss()\n",
        "#Define optimizer\n",
        "optimizer = optim.SGD(model.parameters(),LR)"
      ],
      "metadata": {
        "id": "5b1pDz9o7-Yr"
      },
      "execution_count": 28,
      "outputs": []
    },
    {
      "cell_type": "code",
      "source": [
        "def train():\n",
        "  #Training state\n",
        "  model.train()\n",
        "  for i,data in enumerate(train_loader):\n",
        "    #Get a batch of data and labels\n",
        "    inputs,labels = data\n",
        "    #Obtain model prediction results (64,10)\n",
        "    out = model(inputs)\n",
        "    #Cross entropy cost function out(batch,C),labels (batch)\n",
        "    loss = mse_loss(out,labels)\n",
        "    #Gradient clearing\n",
        "    optimizer.zero_grad()\n",
        "    #Calculated gradient\n",
        "    loss.backward()\n",
        "    #Update parameters\n",
        "    optimizer.step()\n",
        "\n",
        "def test():\n",
        "  #Testing state\n",
        "  model.eval()\n",
        "  correct = 0\n",
        "  for i,data in enumerate(test_loader):\n",
        "    #Get a batch of data and labels\n",
        "    inputs,labels = data\n",
        "    #The model prediction results were obtained(64,10)\n",
        "    out = model(inputs)\n",
        "    #Get the maximum value and the location of the maximum value\n",
        "    _,predicted = torch.max(out,1)\n",
        "    #Predict the correct amount\n",
        "    correct += (predicted == labels).sum()\n",
        "  print(\"Test acc:{0}\".format(correct.item()/len(test_dataset)))\n",
        "\n",
        "  correct = 0\n",
        "  for i,data in enumerate(train_loader):\n",
        "    #Get a batch of data and labels\n",
        "    inputs,labels = data\n",
        "    #The model prediction results were obtained(64,10)\n",
        "    out = model(inputs)\n",
        "    #Get the maximum value and the location of the maximum value\n",
        "    _,predicted = torch.max(out,1)\n",
        "    #Predict the correct amount\n",
        "    correct += (predicted == labels).sum()\n",
        "  print(\"Train acc:{0}\".format(correct.item()/len(train_dataset)))\n",
        "\n"
      ],
      "metadata": {
        "id": "lLPKjoj697c2"
      },
      "execution_count": 29,
      "outputs": []
    },
    {
      "cell_type": "code",
      "source": [
        "for epoch in range(20):\n",
        "  print('epoch:',epoch)\n",
        "  train()\n",
        "  test()\n"
      ],
      "metadata": {
        "colab": {
          "base_uri": "https://localhost:8080/"
        },
        "id": "92VGZMXRExfJ",
        "outputId": "e9d4d32c-0800-4aa3-8980-030e6f8f6227"
      },
      "execution_count": 30,
      "outputs": [
        {
          "output_type": "stream",
          "name": "stdout",
          "text": [
            "epoch: 0\n",
            "Test acc:0.9179\n",
            "Train acc:0.9154666666666667\n",
            "epoch: 1\n",
            "Test acc:0.9304\n",
            "Train acc:0.9303666666666667\n",
            "epoch: 2\n",
            "Test acc:0.9376\n",
            "Train acc:0.9384666666666667\n",
            "epoch: 3\n",
            "Test acc:0.9443\n",
            "Train acc:0.9440666666666667\n",
            "epoch: 4\n",
            "Test acc:0.9492\n",
            "Train acc:0.9518333333333333\n",
            "epoch: 5\n",
            "Test acc:0.9533\n",
            "Train acc:0.95565\n",
            "epoch: 6\n",
            "Test acc:0.9548\n",
            "Train acc:0.9587166666666667\n",
            "epoch: 7\n",
            "Test acc:0.9547\n",
            "Train acc:0.9591\n",
            "epoch: 8\n",
            "Test acc:0.9538\n",
            "Train acc:0.9588666666666666\n",
            "epoch: 9\n",
            "Test acc:0.9562\n",
            "Train acc:0.9623\n",
            "epoch: 10\n",
            "Test acc:0.9599\n",
            "Train acc:0.9656333333333333\n",
            "epoch: 11\n",
            "Test acc:0.9597\n",
            "Train acc:0.96575\n",
            "epoch: 12\n",
            "Test acc:0.9607\n",
            "Train acc:0.9688166666666667\n",
            "epoch: 13\n",
            "Test acc:0.9655\n",
            "Train acc:0.97105\n",
            "epoch: 14\n",
            "Test acc:0.9648\n",
            "Train acc:0.9714833333333334\n",
            "epoch: 15\n",
            "Test acc:0.9652\n",
            "Train acc:0.9728666666666667\n",
            "epoch: 16\n",
            "Test acc:0.9636\n",
            "Train acc:0.9728333333333333\n",
            "epoch: 17\n",
            "Test acc:0.9647\n",
            "Train acc:0.9728833333333333\n",
            "epoch: 18\n",
            "Test acc:0.9676\n",
            "Train acc:0.9751833333333333\n",
            "epoch: 19\n",
            "Test acc:0.9669\n",
            "Train acc:0.9762\n"
          ]
        }
      ]
    }
  ]
}