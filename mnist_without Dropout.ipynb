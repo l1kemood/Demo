{
  "nbformat": 4,
  "nbformat_minor": 0,
  "metadata": {
    "colab": {
      "provenance": [],
      "gpuType": "T4",
      "authorship_tag": "ABX9TyPOGH8EUvkDzFkpiFdu5ZK5",
      "include_colab_link": true
    },
    "kernelspec": {
      "name": "python3",
      "display_name": "Python 3"
    },
    "language_info": {
      "name": "python"
    },
    "accelerator": "GPU"
  },
  "cells": [
    {
      "cell_type": "markdown",
      "metadata": {
        "id": "view-in-github",
        "colab_type": "text"
      },
      "source": [
        "<a href=\"https://colab.research.google.com/github/l1kemood/Demo/blob/main/mnist_without%20Dropout.ipynb\" target=\"_parent\"><img src=\"https://colab.research.google.com/assets/colab-badge.svg\" alt=\"Open In Colab\"/></a>"
      ]
    },
    {
      "cell_type": "code",
      "execution_count": null,
      "metadata": {
        "id": "fHidVkOmvJ8Y"
      },
      "outputs": [],
      "source": [
        "import numpy as np\n",
        "from torch import nn,optim\n",
        "from torch.autograd import Variable\n",
        "from torchvision import datasets,transforms # Corrected the module name from 'torchvison' to 'torchvision'\n",
        "from torch.utils.data import DataLoader\n",
        "import torch"
      ]
    },
    {
      "cell_type": "code",
      "source": [
        "train_dataset=datasets.MNIST(root='./data',train=True,transform=transforms.ToTensor(),download=True)\n",
        "test_dataset=datasets.MNIST(root='./data',train=False,transform=transforms.ToTensor())"
      ],
      "metadata": {
        "id": "yJA_r2Vc6OGq"
      },
      "execution_count": null,
      "outputs": []
    },
    {
      "cell_type": "code",
      "source": [
        "#Batch size\n",
        "batch_size=64\n",
        "#Loaded in the training set\n",
        "train_loader=DataLoader(dataset=train_dataset,batch_size=batch_size,shuffle=True)\n",
        "#Loaded in the testing set\n",
        "test_loader=DataLoader(dataset=test_dataset,batch_size=batch_size,shuffle=True)"
      ],
      "metadata": {
        "id": "PUHs0k-P62QI"
      },
      "execution_count": null,
      "outputs": []
    },
    {
      "cell_type": "code",
      "source": [
        "for i,data in enumerate(train_loader):\n",
        "  inputs,labels=data\n",
        "  print(inputs.shape)\n",
        "  print(labels.shape)\n",
        "  break"
      ],
      "metadata": {
        "colab": {
          "base_uri": "https://localhost:8080/"
        },
        "id": "MmOObruB7M8F",
        "outputId": "852c480d-b529-44f1-b293-848bf8785055"
      },
      "execution_count": null,
      "outputs": [
        {
          "output_type": "stream",
          "name": "stdout",
          "text": [
            "torch.Size([64, 1, 28, 28])\n",
            "torch.Size([64])\n"
          ]
        }
      ]
    },
    {
      "cell_type": "code",
      "source": [
        "#Define network structure\n",
        "class Net(nn.Module):\n",
        "  def __init__(self):\n",
        "    super(Net,self).__init__()\n",
        "    self.layer1 = nn.Sequential(nn.Linear(784,500),nn.Dropout(p=0),nn.Tanh())\n",
        "    self.layer2 = nn.Sequential(nn.Linear(500,300),nn.Dropout(p=0),nn.Tanh())\n",
        "    self.layer3 = nn.Sequential(nn.Linear(300,10),nn.Softmax(dim=1))\n",
        "\n",
        "  def forward(self,x):\n",
        "    # ([64, 1, 28, 28])->(64,784)\n",
        "    x = x.view(x.size()[0],-1)\n",
        "    x = self.layer1(x)\n",
        "    x = self.layer2(x)\n",
        "    x = self.layer3(x)\n",
        "    return x\n"
      ],
      "metadata": {
        "id": "P2tIWaRB7f29"
      },
      "execution_count": null,
      "outputs": []
    },
    {
      "cell_type": "code",
      "source": [
        "LR = 0.5\n",
        "#Define the model\n",
        "model = Net()\n",
        "#Define cost function\n",
        "mse_loss = nn.CrossEntropyLoss()\n",
        "#Define optimizer\n",
        "optimizer = optim.SGD(model.parameters(),LR)"
      ],
      "metadata": {
        "id": "5b1pDz9o7-Yr"
      },
      "execution_count": null,
      "outputs": []
    },
    {
      "cell_type": "code",
      "source": [
        "def train():\n",
        "  #Training state\n",
        "  model.train()\n",
        "  for i,data in enumerate(train_loader):\n",
        "    #Get a batch of data and labels\n",
        "    inputs,labels = data\n",
        "    #Obtain model prediction results (64,10)\n",
        "    out = model(inputs)\n",
        "    #Cross entropy cost function out(batch,C),labels (batch)\n",
        "    loss = mse_loss(out,labels)\n",
        "    #Gradient clearing\n",
        "    optimizer.zero_grad()\n",
        "    #Calculated gradient\n",
        "    loss.backward()\n",
        "    #Update parameters\n",
        "    optimizer.step()\n",
        "\n",
        "def test():\n",
        "  #Testing state\n",
        "  model.eval()\n",
        "  correct = 0\n",
        "  for i,data in enumerate(test_loader):\n",
        "    #Get a batch of data and labels\n",
        "    inputs,labels = data\n",
        "    #The model prediction results were obtained(64,10)\n",
        "    out = model(inputs)\n",
        "    #Get the maximum value and the location of the maximum value\n",
        "    _,predicted = torch.max(out,1)\n",
        "    #Predict the correct amount\n",
        "    correct += (predicted == labels).sum()\n",
        "  print(\"Test acc:{0}\".format(correct.item()/len(test_dataset)))\n",
        "\n",
        "  correct = 0\n",
        "  for i,data in enumerate(train_loader):\n",
        "    #Get a batch of data and labels\n",
        "    inputs,labels = data\n",
        "    #The model prediction results were obtained(64,10)\n",
        "    out = model(inputs)\n",
        "    #Get the maximum value and the location of the maximum value\n",
        "    _,predicted = torch.max(out,1)\n",
        "    #Predict the correct amount\n",
        "    correct += (predicted == labels).sum()\n",
        "  print(\"Train acc:{0}\".format(correct.item()/len(train_dataset)))\n",
        "\n"
      ],
      "metadata": {
        "id": "lLPKjoj697c2"
      },
      "execution_count": null,
      "outputs": []
    },
    {
      "cell_type": "code",
      "source": [
        "for epoch in range(20):\n",
        "  print('epoch:',epoch)\n",
        "  train()\n",
        "  test()\n"
      ],
      "metadata": {
        "colab": {
          "base_uri": "https://localhost:8080/"
        },
        "id": "92VGZMXRExfJ",
        "outputId": "832bf68a-308f-4da1-adc4-8e4277bdc536"
      },
      "execution_count": null,
      "outputs": [
        {
          "output_type": "stream",
          "name": "stdout",
          "text": [
            "epoch: 0\n",
            "Test acc:0.9033\n",
            "Train acc:0.9044166666666666\n",
            "epoch: 1\n",
            "Test acc:0.9206\n",
            "Train acc:0.9232\n",
            "epoch: 2\n",
            "Test acc:0.9404\n",
            "Train acc:0.9455166666666667\n",
            "epoch: 3\n",
            "Test acc:0.9484\n",
            "Train acc:0.9527333333333333\n",
            "epoch: 4\n",
            "Test acc:0.9514\n",
            "Train acc:0.9570833333333333\n",
            "epoch: 5\n",
            "Test acc:0.9587\n",
            "Train acc:0.9638833333333333\n",
            "epoch: 6\n",
            "Test acc:0.9614\n",
            "Train acc:0.96795\n",
            "epoch: 7\n",
            "Test acc:0.9614\n",
            "Train acc:0.9704166666666667\n",
            "epoch: 8\n",
            "Test acc:0.9649\n",
            "Train acc:0.9726\n",
            "epoch: 9\n",
            "Test acc:0.9651\n",
            "Train acc:0.9750333333333333\n",
            "epoch: 10\n",
            "Test acc:0.9684\n",
            "Train acc:0.9789333333333333\n",
            "epoch: 11\n",
            "Test acc:0.9692\n",
            "Train acc:0.9808\n",
            "epoch: 12\n",
            "Test acc:0.9707\n",
            "Train acc:0.9807333333333333\n",
            "epoch: 13\n",
            "Test acc:0.9697\n",
            "Train acc:0.9823333333333333\n",
            "epoch: 14\n",
            "Test acc:0.972\n",
            "Train acc:0.9840333333333333\n",
            "epoch: 15\n",
            "Test acc:0.9716\n",
            "Train acc:0.9846833333333334\n",
            "epoch: 16\n",
            "Test acc:0.9716\n",
            "Train acc:0.9856666666666667\n",
            "epoch: 17\n",
            "Test acc:0.9727\n",
            "Train acc:0.9869666666666667\n",
            "epoch: 18\n",
            "Test acc:0.9733\n",
            "Train acc:0.9868333333333333\n",
            "epoch: 19\n",
            "Test acc:0.9731\n",
            "Train acc:0.9877666666666667\n"
          ]
        }
      ]
    }
  ]
}